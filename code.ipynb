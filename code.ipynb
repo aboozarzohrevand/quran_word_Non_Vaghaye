import pandas as pd
import numpy as np
import nltk
import re
import csv
nltk.download('punkt')

df = pd.read_csv('aaaaa.csv', sep=',', header='infer',encoding="utf-8");
WordAr = df['WordAr'].values.tolist()   
RootAr = df['RootAr'].values.tolist()   
GrammarFormDesc = df['GrammarFormDesc'].values.tolist() 


def normalizeArabic(text):
    text = re.sub("[ُٱََّْٖـِٰ‏ٱٌَِِّۡۙۚۖۤ ۤ ۖٗ‌ؕ]", "", text)
    return(text)


header = ['WordAr','RootAr','Grammar']
with open('quran-output1.csv', 'w', encoding='UTF8') as f:
    writer = csv.writer(f)
    writer.writerow(header)
    for i1, k1 in enumerate(WordAr):
      text1=normalizeArabic(k1)
      text1=replace1(text1)
      for i2, k in enumerate(text1):
        if((i2 == len(text1)-2) and  k =='ن'and text1[i2+1]=='ى'   ):
          print(text1,WordAr[i1],RootAr[i1],GrammarFormDesc[i1])
          data = [text1,WordAr[i1],RootAr[i1],GrammarFormDesc[i1]]
          writer.writerow(data)
